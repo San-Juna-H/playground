{
 "cells": [
  {
   "cell_type": "markdown",
   "metadata": {},
   "source": [
    "# Introduction\n",
    "- Task: Multi-class Classification    \n",
    "- Method: Convolutional Neural Network\n",
    "- Library: PyTorch\n",
    "- Dataset: Mnist\n",
    "    - https://yann.lecun.com/exdb/mnist/ \n",
    "    - https://pytorch.org/vision/main/generated/torchvision.datasets.MNIST.html\n",
    "    - The MNIST database of handwritten digits, has a training set of 60,000 examples, and a test set of 10,000 examples.\n",
    "    - grayscale 28*28\n",
    "    - Classes: {0, 1, 2, 3, 4, 5, 6, 7, 8, 9}"
   ]
  },
  {
   "cell_type": "markdown",
   "metadata": {},
   "source": [
    "# Prepare Data"
   ]
  },
  {
   "cell_type": "code",
   "execution_count": null,
   "metadata": {},
   "outputs": [],
   "source": [
    "from torch.utils.data import Dataset\n",
    "import torchvision.transforms as transforms\n",
    "from torchvision.datasets import MNIST\n",
    "\n",
    "class CustomDataset(Dataset):\n",
    "    '''\n",
    "    CustomDataset is a subclass of PyTorch's Dataset.\n",
    "    \n",
    "    This dataset class wraps the MNIST dataset, allowing for easy loading and transformation.\n",
    "    \n",
    "    Attributes:\n",
    "        data (MNIST): The MNIST dataset object.\n",
    "    '''\n",
    "    def __init__(self, root, train=True, transform=None):\n",
    "        '''\n",
    "        Initializes the CustomDataset.\n",
    "        \n",
    "        Loads the MNIST dataset from the specified root directory.\n",
    "        \n",
    "        Args:\n",
    "            root (str): Root directory where the MNIST dataset is stored.\n",
    "            train (bool): If True, creates dataset from the training set, otherwise from the test set.\n",
    "            transform (callable, optional): A function/transform that takes in a PIL image and returns a transformed version.\n",
    "        \n",
    "        Returns:\n",
    "            None\n",
    "        '''\n",
    "        super(CustomDataset, self).__init__()\n",
    "        self.data = MNIST(root=root, train=train, download=True, transform=transform)\n",
    "\n",
    "    def __len__(self):\n",
    "        '''\n",
    "        Returns the total number of samples in the dataset.\n",
    "        \n",
    "        Args:\n",
    "            None\n",
    "        \n",
    "        Returns:\n",
    "            int: Number of samples.\n",
    "        '''\n",
    "        return len(self.data) \n",
    "\n",
    "    def __getitem__(self, idx):\n",
    "        '''\n",
    "        Retrieves the sample at the specified index.\n",
    "        \n",
    "        Args:\n",
    "            idx (int): Index of the sample to retrieve.\n",
    "        \n",
    "        Returns:\n",
    "            tuple: (image, label) where image is the transformed image and label is its corresponding class.\n",
    "        '''\n",
    "        return self.data[idx]"
   ]
  },
  {
   "cell_type": "code",
   "execution_count": null,
   "metadata": {},
   "outputs": [],
   "source": [
    "# Define transformations for data preprocessing\n",
    "transform = transforms.Compose([\n",
    "    # Convert images to tensors\n",
    "    transforms.ToTensor(),\n",
    "    # Normalize with mean=0.1307 and std=0.3081\n",
    "    transforms.Normalize((0.1307,), (0.3081,))\n",
    "])"
   ]
  },
  {
   "cell_type": "code",
   "execution_count": null,
   "metadata": {},
   "outputs": [],
   "source": [
    "train_dataset = CustomDataset(root='./data', train=True, transform=transform)\n",
    "test_dataset = CustomDataset(root='./data', train=False, transform=transform)\n",
    "\n",
    "train_loader = DataLoader(dataset=train_dataset, batch_size=64, shuffle=True)\n",
    "test_loader = DataLoader(dataset=test_dataset, batch_size=1000, shuffle=False)"
   ]
  },
  {
   "cell_type": "markdown",
   "metadata": {},
   "source": [
    "# Define Model"
   ]
  },
  {
   "cell_type": "code",
   "execution_count": null,
   "metadata": {},
   "outputs": [],
   "source": [
    "from torch import nn\n",
    "\n",
    "class CustomModule(nn.Module):\n",
    "    def __init__(self):\n",
    "        super.__init__()\n",
    "\n",
    "    def forward(self, x):\n",
    "        return x"
   ]
  },
  {
   "cell_type": "markdown",
   "metadata": {},
   "source": [
    "# Train"
   ]
  },
  {
   "cell_type": "markdown",
   "metadata": {},
   "source": [
    "# Test"
   ]
  },
  {
   "cell_type": "markdown",
   "metadata": {},
   "source": [
    "# Inference"
   ]
  },
  {
   "cell_type": "markdown",
   "metadata": {},
   "source": [
    "# Visualization"
   ]
  }
 ],
 "metadata": {
  "kernelspec": {
   "display_name": "torchcuda124",
   "language": "python",
   "name": "python3"
  },
  "language_info": {
   "name": "python",
   "version": "3.12.4"
  }
 },
 "nbformat": 4,
 "nbformat_minor": 2
}
