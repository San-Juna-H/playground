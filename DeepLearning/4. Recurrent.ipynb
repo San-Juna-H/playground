{
 "cells": [
  {
   "cell_type": "markdown",
   "metadata": {},
   "source": [
    "# Introduction\n",
    "- **Task**: Sequence Classification\n",
    "- **Method**: Recurrent Neural Network (RNN)\n",
    "- **Library**: PyTorch\n",
    "- **Dataset**: IMDB Movie Review Dataset\n",
    "  - https://ai.stanford.edu/~amaas/data/sentiment/\n",
    "  - A dataset consisting of 50,000 movie reviews for sentiment classification tasks.\n",
    "  - Classes: {Positive, Negative}"
   ]
  },
  {
   "cell_type": "code",
   "execution_count": null,
   "metadata": {},
   "outputs": [],
   "source": []
  },
  {
   "cell_type": "code",
   "execution_count": null,
   "metadata": {},
   "outputs": [],
   "source": []
  }
 ],
 "metadata": {
  "kernelspec": {
   "display_name": "Python 3 (ipykernel)",
   "language": "python",
   "name": "python3"
  }
 },
 "nbformat": 4,
 "nbformat_minor": 2
}
