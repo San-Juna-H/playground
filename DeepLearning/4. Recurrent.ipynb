{
 "cells": [
  {
   "cell_type": "markdown",
   "metadata": {},
   "source": [
    "# # Recurrent Neural Network\n",
    "\n",
    "## Introduction\n",
    "- **Task**: Sequence Classification\n",
    "- **Method**: Recurrent Neural Network (RNN)\n",
    "- **Library**: PyTorch\n",
    "- **Dataset**: IMDB Movie Review Dataset\n",
    "  - https://ai.stanford.edu/~amaas/data/sentiment/\n",
    "  - A dataset consisting of 50,000 movie reviews for sentiment classification tasks.\n",
    "  - Classes: {Positive, Negative}"
   ]
  }
 ],
 "metadata": {
  "kernelspec": {
   "display_name": "Python 3 (ipykernel)",
   "language": "python",
   "name": "python3"
  },
  "language_info": {
   "codemirror_mode": {
    "name": "ipython",
    "version": 3
   },
   "file_extension": ".py",
   "mimetype": "text/x-python",
   "name": "python",
   "nbconvert_exporter": "python",
   "pygments_lexer": "ipython3",
   "version": "3.12.4"
  }
 },
 "nbformat": 4,
 "nbformat_minor": 2
}
