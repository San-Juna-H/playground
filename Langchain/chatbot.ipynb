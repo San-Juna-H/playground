{
 "cells": [
  {
   "cell_type": "code",
   "execution_count": 21,
   "metadata": {},
   "outputs": [],
   "source": [
    "from langchain_community.llms import Ollama\n",
    "from pprint import pprint\n",
    "\n",
    "# model\n",
    "llm = Ollama(model=\"llama3.1:70b\")"
   ]
  },
  {
   "cell_type": "code",
   "execution_count": 22,
   "metadata": {},
   "outputs": [],
   "source": [
    "from langchain_core.prompts import ChatPromptTemplate\n",
    "\n",
    "prompt = ChatPromptTemplate.from_template(\"You are a helpful office assistant. When you receive a raw text, organize it. Here is it: {input}\")\n",
    "\n",
    "# chain 연결 (LCEL)\n",
    "chain = prompt | llm \n",
    "\n",
    "# chain 호출\n",
    "response = chain.invoke({\n",
    "    \"input\": \"Hello\"\n",
    "})"
   ]
  },
  {
   "cell_type": "code",
   "execution_count": 23,
   "metadata": {},
   "outputs": [
    {
     "name": "stdout",
     "output_type": "stream",
     "text": [
      "('**Welcome Message**\\n'\n",
      " '\\n'\n",
      " 'Hello \\n'\n",
      " '\\n'\n",
      " 'It seems like we just started a conversation! How can I assist you today? Do '\n",
      " \"you have any questions or topics you'd like to discuss?\")\n"
     ]
    }
   ],
   "source": [
    "pprint(response)"
   ]
  },
  {
   "cell_type": "code",
   "execution_count": null,
   "metadata": {},
   "outputs": [],
   "source": []
  }
 ],
 "metadata": {
  "kernelspec": {
   "display_name": "llmsystem",
   "language": "python",
   "name": "python3"
  },
  "language_info": {
   "codemirror_mode": {
    "name": "ipython",
    "version": 3
   },
   "file_extension": ".py",
   "mimetype": "text/x-python",
   "name": "python",
   "nbconvert_exporter": "python",
   "pygments_lexer": "ipython3",
   "version": "3.12.4"
  }
 },
 "nbformat": 4,
 "nbformat_minor": 2
}
