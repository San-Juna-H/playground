{
 "cells": [
  {
   "cell_type": "code",
   "execution_count": 17,
   "metadata": {},
   "outputs": [],
   "source": [
    "from langchain_community.llms import Ollama\n",
    "from pprint import pprint\n",
    "\n",
    "# model\n",
    "llm = Ollama(model=\"llama3.1\")"
   ]
  },
  {
   "cell_type": "code",
   "execution_count": 19,
   "metadata": {},
   "outputs": [],
   "source": [
    "from langchain_core.prompts import ChatPromptTemplate\n",
    "\n",
    "prompt = ChatPromptTemplate.from_template(\"You are a helpful office assistant. When you receive a raw text, organize it. Here is it: {input}\")\n",
    "\n",
    "# chain 연결 (LCEL)\n",
    "chain = prompt | llm\n",
    "\n",
    "# chain 호출\n",
    "response = chain.invoke({\n",
    "    \"input\": \"질의: 공립학교에서 '산업안전보건법' 위반에 따른 처벌대상이 되는 사업주 및 행위자에 대해 질의합니다. 공립학교에서 채용하여 사용하는 근로자의 안전보건과 관련하여 '산업안전보건법' 적용 판단 시 법 위반 처벌대상이 되는 사업주, 행위자 등 책임관계에 대해 회신을 요청드립니다. \\n\\n회시: \\n1. 지방자치단체로서의 특별시, 광역시, 도, 시, 군 등에는 1개의 법인이 존재하며(지방자치법 제3조) 공립학교는 지방자치단체가 설립하여 경영하는 체계로 되어 있습니다(초·중등교육법 제3조). 다만, 지방자치단체에는 사무의 영역에 따라 도지사 등 자치단체의 장과 교육감이 별개의 집행 및 대표기관으로 병존하고 있을 뿐이므로, 지방자치단체가 공립학교를 설립·경영하는 경우 사업주(법인)는 해당 지방자치단체로 보는 것이 타당합니다.\\n\\n2. 또한, '지방교육자치에 관한 법률' 제18조에 따르면 시·도의 교육·학예에 관한 사무의 집행기관은 시·도 교육감으로 규정되어 있고, 교육감은 조례 또는 교육규칙이 정하는 바에 따라 그 권한에 속하는 사무의 일부를 보조기관, 소속 교육기관 또는 하급교육행정기관에 위임할 수 있습니다(지방교육자치에 관한 법률 제26조). 따라서 위반행위자는 사안에 따라 시·도 교육감 또는 공립학교장 등이 될 수 있을 것으로 판단됩니다.\"\n",
    "})"
   ]
  },
  {
   "cell_type": "code",
   "execution_count": 20,
   "metadata": {},
   "outputs": [
    {
     "name": "stdout",
     "output_type": "stream",
     "text": [
      "('Here is the organized text:\\n'\n",
      " '\\n'\n",
      " '**질의**\\n'\n",
      " '\\n'\n",
      " \"공립학교에서 '산업안전보건법' 위반이 따른 처벌 대상이 되는 사업주 및 행위자에 대해 질의합니다.\\n\"\n",
      " '\\n'\n",
      " \"공립학교에서 채용하여 사용하는 근로자의 안전 보건과 관련하여 '산업안전보건법' 적용 판단 시 법 위반 처벌대상이 되는 사업주, 행위자 등 \"\n",
      " '책임관계에 대해 회신을 요청드립니다.\\n'\n",
      " '\\n'\n",
      " '**회신**\\n'\n",
      " '\\n'\n",
      " '1. 공립학교는 지방자치단체가 설립하고 경영하는 체계로 되어 있습니다.\\n'\n",
      " '   - 지방자치단체에는 사무의 영역에 따라 도지사 등 자치단체의 장과 교육감이 별개의 집행 및 대표기관으로 병존합니다.\\n'\n",
      " '   - 이때, 지방자치단체가 공립학교를 설립·경영하는 경우 사업주(법인)는 해당 지방자치단체로 보는 것이 타당합니다.\\n'\n",
      " '\\n'\n",
      " \"2. '지방교육자치에 관한 법률' 제18조에 따르면 시·도의 교육·학예에 관한 사무의 집행기관은 시·도 교육감으로 규정되어 있습니다.\\n\"\n",
      " '   - 교육감은 조례 또는 교육규칙이 정하는 바에 따라 그 권한에 속하는 사무의 일부를 보조기관, 소속 교육기관 또는 하급교육행정기관에 '\n",
      " '위임할 수 있습니다.\\n'\n",
      " '   - 따라서 위반 행위자는 사안에 따라 시·도 교육감 또는 공립학교장 등이 될 수 있을 것으로 판단됩니다.')\n"
     ]
    }
   ],
   "source": [
    "pprint(response)"
   ]
  },
  {
   "cell_type": "code",
   "execution_count": null,
   "metadata": {},
   "outputs": [],
   "source": []
  }
 ],
 "metadata": {
  "kernelspec": {
   "display_name": "llmsystem",
   "language": "python",
   "name": "python3"
  },
  "language_info": {
   "codemirror_mode": {
    "name": "ipython",
    "version": 3
   },
   "file_extension": ".py",
   "mimetype": "text/x-python",
   "name": "python",
   "nbconvert_exporter": "python",
   "pygments_lexer": "ipython3",
   "version": "3.12.4"
  }
 },
 "nbformat": 4,
 "nbformat_minor": 2
}
